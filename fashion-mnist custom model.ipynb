{
 "cells": [
  {
   "cell_type": "code",
   "execution_count": 1,
   "id": "6ab96d86",
   "metadata": {
    "execution": {
     "iopub.execute_input": "2024-09-14T17:52:31.129499Z",
     "iopub.status.busy": "2024-09-14T17:52:31.129091Z",
     "iopub.status.idle": "2024-09-14T17:52:31.527493Z",
     "shell.execute_reply": "2024-09-14T17:52:31.526501Z"
    },
    "papermill": {
     "duration": 0.406951,
     "end_time": "2024-09-14T17:52:31.530025",
     "exception": false,
     "start_time": "2024-09-14T17:52:31.123074",
     "status": "completed"
    },
    "tags": []
   },
   "outputs": [],
   "source": [
    "import numpy as np\n",
    "import pandas as pd\n",
    "\n"
   ]
  },
  {
   "cell_type": "code",
   "execution_count": 2,
   "id": "4d0ddd2e",
   "metadata": {
    "execution": {
     "iopub.execute_input": "2024-09-14T17:52:31.539816Z",
     "iopub.status.busy": "2024-09-14T17:52:31.539303Z",
     "iopub.status.idle": "2024-09-14T17:52:37.696766Z",
     "shell.execute_reply": "2024-09-14T17:52:37.695727Z"
    },
    "papermill": {
     "duration": 6.165222,
     "end_time": "2024-09-14T17:52:37.699426",
     "exception": false,
     "start_time": "2024-09-14T17:52:31.534204",
     "status": "completed"
    },
    "tags": []
   },
   "outputs": [],
   "source": [
    "data = pd.read_csv(\"/kaggle/input/fashionmnist/fashion-mnist_train.csv\")"
   ]
  },
  {
   "cell_type": "code",
   "execution_count": 3,
   "id": "bbd79a0d",
   "metadata": {
    "execution": {
     "iopub.execute_input": "2024-09-14T17:52:37.709052Z",
     "iopub.status.busy": "2024-09-14T17:52:37.708657Z",
     "iopub.status.idle": "2024-09-14T17:52:38.519768Z",
     "shell.execute_reply": "2024-09-14T17:52:38.518500Z"
    },
    "papermill": {
     "duration": 0.819324,
     "end_time": "2024-09-14T17:52:38.522833",
     "exception": false,
     "start_time": "2024-09-14T17:52:37.703509",
     "status": "completed"
    },
    "tags": []
   },
   "outputs": [
    {
     "name": "stdout",
     "output_type": "stream",
     "text": [
      "Number of unique classes: 10\n"
     ]
    }
   ],
   "source": [
    "data_np = data.to_numpy()\n",
    "Y_train = data_np[:, 0]  # First column is the label\n",
    "X_train = data_np[:, 1:]  # All other columns are features\n",
    "\n",
    "# Normalize the data\n",
    "X_train = X_train / 255.0\n",
    "\n",
    "# Shuffle the data\n",
    "def shuffle_data(X, Y):\n",
    "    permutation = np.random.permutation(X.shape[0])\n",
    "    return X[permutation], Y[permutation]\n",
    "\n",
    "X_train, Y_train = shuffle_data(X_train, Y_train)\n",
    "\n",
    "# Split into training and validation sets\n",
    "val_size = int(0.1 * X_train.shape[0])  # 10% of the data\n",
    "X_val, Y_val = X_train[:val_size], Y_train[:val_size]\n",
    "X_train, Y_train = X_train[val_size:], Y_train[val_size:]\n",
    "\n",
    "# Transpose X_train and X_val to match the expected shape for the neural network\n",
    "X_train = X_train.T\n",
    "X_val = X_val.T\n",
    "\n",
    "# Number of unique classes\n",
    "class_labels = data.iloc[:, 0]\n",
    "unique_classes = class_labels.unique()\n",
    "num_classes = unique_classes.size\n",
    "print(f\"Number of unique classes: {num_classes}\")"
   ]
  },
  {
   "cell_type": "code",
   "execution_count": 4,
   "id": "704657f7",
   "metadata": {
    "execution": {
     "iopub.execute_input": "2024-09-14T17:52:38.532841Z",
     "iopub.status.busy": "2024-09-14T17:52:38.532418Z",
     "iopub.status.idle": "2024-09-14T17:52:38.540658Z",
     "shell.execute_reply": "2024-09-14T17:52:38.539359Z"
    },
    "papermill": {
     "duration": 0.015755,
     "end_time": "2024-09-14T17:52:38.542805",
     "exception": false,
     "start_time": "2024-09-14T17:52:38.527050",
     "status": "completed"
    },
    "tags": []
   },
   "outputs": [],
   "source": [
    "def init_params(num_classes):\n",
    "    W1 = np.random.randn(512, 784) * np.sqrt(2./784)\n",
    "    b1 = np.zeros((512, 1))\n",
    "    W2 = np.random.randn(256, 512) * np.sqrt(2./512)\n",
    "    b2 = np.zeros((256, 1))\n",
    "    W3 = np.random.randn(128, 256) * np.sqrt(2./256)\n",
    "    b3 = np.zeros((128, 1))\n",
    "    W4 = np.random.randn(64, 128) * np.sqrt(2./128)\n",
    "    b4 = np.zeros((64, 1))\n",
    "    W5 = np.random.randn(10, 64) * np.sqrt(2./64)\n",
    "    b5 = np.zeros((10, 1))\n",
    "    W6 = np.random.randn(num_classes, 10) * np.sqrt(2./10)\n",
    "    b6 = np.zeros((num_classes, 1))\n",
    "    return W1, b1, W2, b2, W3, b3, W4, b4, W5, b5, W6, b6"
   ]
  },
  {
   "cell_type": "code",
   "execution_count": 5,
   "id": "44eaf7e6",
   "metadata": {
    "execution": {
     "iopub.execute_input": "2024-09-14T17:52:38.552682Z",
     "iopub.status.busy": "2024-09-14T17:52:38.552243Z",
     "iopub.status.idle": "2024-09-14T17:52:38.561633Z",
     "shell.execute_reply": "2024-09-14T17:52:38.560545Z"
    },
    "papermill": {
     "duration": 0.016827,
     "end_time": "2024-09-14T17:52:38.563749",
     "exception": false,
     "start_time": "2024-09-14T17:52:38.546922",
     "status": "completed"
    },
    "tags": []
   },
   "outputs": [],
   "source": [
    "def LeakyReLU(Z, alpha=0.01):\n",
    "    return np.maximum(alpha * Z, Z)\n",
    "\n",
    "def LeakyReLU_deriv(Z, alpha=0.01):\n",
    "    dZ = np.ones_like(Z)\n",
    "    dZ[Z < 0] = alpha\n",
    "    return dZ\n",
    "\n",
    "def softmax(Z):\n",
    "    Z -= np.max(Z, axis=0)\n",
    "    A = np.exp(Z) / np.sum(np.exp(Z), axis=0)\n",
    "    return A\n",
    "\n",
    "def one_hot(Y, num_classes):\n",
    "    one_hot_Y = np.zeros((Y.size, num_classes))\n",
    "    one_hot_Y[np.arange(Y.size), Y.astype(int)] = 1\n",
    "    one_hot_Y = one_hot_Y.T\n",
    "    return one_hot_Y\n",
    "\n",
    "def get_predictions(A):\n",
    "    return np.argmax(A, axis=0)  # Takes the max value across classes to get predictions\n",
    "\n",
    "def get_accuracy(predictions, labels):\n",
    "    return np.mean(predictions == labels)  # Returns accuracy as a percentage of correct predictions\n",
    "\n",
    "def dropout(A, keep_prob):\n",
    "    D = np.random.rand(*A.shape) < keep_prob\n",
    "    A *= D\n",
    "    A /= keep_prob\n",
    "    return A, D\n",
    "\n",
    "def get_learning_rate(initial_lr, iteration, decay_rate=0.1):\n",
    "    return initial_lr / (1 + decay_rate * iteration)  # Decays the learning rate as iterations increase\n",
    "\n"
   ]
  },
  {
   "cell_type": "code",
   "execution_count": 6,
   "id": "29dc6384",
   "metadata": {
    "execution": {
     "iopub.execute_input": "2024-09-14T17:52:38.573543Z",
     "iopub.status.busy": "2024-09-14T17:52:38.573140Z",
     "iopub.status.idle": "2024-09-14T17:52:38.582492Z",
     "shell.execute_reply": "2024-09-14T17:52:38.581472Z"
    },
    "papermill": {
     "duration": 0.016809,
     "end_time": "2024-09-14T17:52:38.584710",
     "exception": false,
     "start_time": "2024-09-14T17:52:38.567901",
     "status": "completed"
    },
    "tags": []
   },
   "outputs": [],
   "source": [
    "def forward_prop(W1, b1, W2, b2, W3, b3, W4, b4, W5, b5, W6, b6, X, keep_prob=1.0, is_training=True):\n",
    "    Z1 = W1.dot(X) + b1\n",
    "    A1 = LeakyReLU(Z1)\n",
    "    if is_training:\n",
    "        A1, D1 = dropout(A1, keep_prob)\n",
    "    Z2 = W2.dot(A1) + b2\n",
    "    A2 = LeakyReLU(Z2)\n",
    "    if is_training:\n",
    "        A2, D2 = dropout(A2, keep_prob)\n",
    "    Z3 = W3.dot(A2) + b3\n",
    "    A3 = LeakyReLU(Z3)\n",
    "    if is_training:\n",
    "        A3, D3 = dropout(A3, keep_prob)\n",
    "    Z4 = W4.dot(A3) + b4\n",
    "    A4 = LeakyReLU(Z4)\n",
    "    if is_training:\n",
    "        A4, D4 = dropout(A4, keep_prob)\n",
    "    Z5 = W5.dot(A4) + b5\n",
    "    A5 = LeakyReLU(Z5)\n",
    "    if is_training:\n",
    "        A5, D5 = dropout(A5, keep_prob)\n",
    "    Z6 = W6.dot(A5) + b6\n",
    "    A6 = softmax(Z6)\n",
    "    cache = (Z1, A1, D1, Z2, A2, D2, Z3, A3, D3, Z4, A4, D4, Z5, A5, D5, Z6, A6) if is_training else (Z1, A1, Z2, A2, Z3, A3, Z4, A4, Z5, A5, Z6, A6)\n",
    "    return A6, cache"
   ]
  },
  {
   "cell_type": "code",
   "execution_count": 7,
   "id": "41f81b25",
   "metadata": {
    "execution": {
     "iopub.execute_input": "2024-09-14T17:52:38.594809Z",
     "iopub.status.busy": "2024-09-14T17:52:38.594436Z",
     "iopub.status.idle": "2024-09-14T17:52:38.606790Z",
     "shell.execute_reply": "2024-09-14T17:52:38.605701Z"
    },
    "papermill": {
     "duration": 0.019868,
     "end_time": "2024-09-14T17:52:38.608952",
     "exception": false,
     "start_time": "2024-09-14T17:52:38.589084",
     "status": "completed"
    },
    "tags": []
   },
   "outputs": [],
   "source": [
    "def backward_prop(X, Y, cache, W1, W2, W3, W4, W5, W6, keep_prob, num_classes, lambd):\n",
    "    m = Y.shape[0]\n",
    "    (Z1, A1, D1, Z2, A2, D2, Z3, A3, D3, Z4, A4, D4, Z5, A5, D5, Z6, A6) = cache\n",
    "    \n",
    "    one_hot_Y = one_hot(Y, num_classes)\n",
    "    dZ6 = A6 - one_hot_Y\n",
    "    dW6 = 1/m * dZ6.dot(A5.T) + (lambd/m) * W6\n",
    "    db6 = 1/m * np.sum(dZ6, axis=1, keepdims=True)\n",
    "    \n",
    "    dA5 = W6.T.dot(dZ6)\n",
    "    dA5 *= D5\n",
    "    dA5 /= keep_prob\n",
    "    dZ5 = dA5 * LeakyReLU_deriv(Z5)\n",
    "    dW5 = 1/m * dZ5.dot(A4.T) + (lambd/m) * W5\n",
    "    db5 = 1/m * np.sum(dZ5, axis=1, keepdims=True)\n",
    "    \n",
    "    dA4 = W5.T.dot(dZ5)\n",
    "    dA4 *= D4\n",
    "    dA4 /= keep_prob\n",
    "    dZ4 = dA4 * LeakyReLU_deriv(Z4)\n",
    "    dW4 = 1/m * dZ4.dot(A3.T) + (lambd/m) * W4\n",
    "    db4 = 1/m * np.sum(dZ4, axis=1, keepdims=True)\n",
    "    \n",
    "    dA3 = W4.T.dot(dZ4)\n",
    "    dA3 *= D3\n",
    "    dA3 /= keep_prob\n",
    "    dZ3 = dA3 * LeakyReLU_deriv(Z3)\n",
    "    dW3 = 1/m * dZ3.dot(A2.T) + (lambd/m) * W3\n",
    "    db3 = 1/m * np.sum(dZ3, axis=1, keepdims=True)\n",
    "    \n",
    "    dA2 = W3.T.dot(dZ3)\n",
    "    dA2 *= D2\n",
    "    dA2 /= keep_prob\n",
    "    dZ2 = dA2 * LeakyReLU_deriv(Z2)\n",
    "    dW2 = 1/m * dZ2.dot(A1.T) + (lambd/m) * W2\n",
    "    db2 = 1/m * np.sum(dZ2, axis=1, keepdims=True)\n",
    "    \n",
    "    dA1 = W2.T.dot(dZ2)\n",
    "    dA1 *= D1\n",
    "    dA1 /= keep_prob\n",
    "    dZ1 = dA1 * LeakyReLU_deriv(Z1)\n",
    "    dW1 = 1/m * dZ1.dot(X.T) + (lambd/m) * W1\n",
    "    db1 = 1/m * np.sum(dZ1, axis=1, keepdims=True)\n",
    "    \n",
    "    return dW1, db1, dW2, db2, dW3, db3, dW4, db4, dW5, db5, dW6, db6\n"
   ]
  },
  {
   "cell_type": "code",
   "execution_count": 8,
   "id": "5d48038a",
   "metadata": {
    "execution": {
     "iopub.execute_input": "2024-09-14T17:52:38.618966Z",
     "iopub.status.busy": "2024-09-14T17:52:38.618550Z",
     "iopub.status.idle": "2024-09-14T17:52:38.630836Z",
     "shell.execute_reply": "2024-09-14T17:52:38.629686Z"
    },
    "papermill": {
     "duration": 0.020039,
     "end_time": "2024-09-14T17:52:38.633205",
     "exception": false,
     "start_time": "2024-09-14T17:52:38.613166",
     "status": "completed"
    },
    "tags": []
   },
   "outputs": [],
   "source": [
    "def gradient_descent(X_train, Y_train, X_val, Y_val, num_classes, \n",
    "                     initial_lr=0.005, iterations=400, batch_size=256, \n",
    "                     keep_prob=0.9, lambd=0.00005):\n",
    "    W1, b1, W2, b2, W3, b3, W4, b4, W5, b5, W6, b6 = init_params(num_classes)\n",
    "    m = X_train.shape[1]\n",
    "\n",
    "    for i in range(iterations):\n",
    "        permutation = np.random.permutation(m)\n",
    "        X_train_shuffled = X_train[:, permutation]\n",
    "        Y_train_shuffled = Y_train[permutation]\n",
    "\n",
    "        for j in range(0, m, batch_size):\n",
    "            end = j + batch_size\n",
    "            X_batch = X_train_shuffled[:, j:end]\n",
    "            Y_batch = Y_train_shuffled[j:end]\n",
    "\n",
    "            A6, cache = forward_prop(W1, b1, W2, b2, W3, b3, W4, b4, W5, b5, W6, b6, X_batch, keep_prob)\n",
    "            dW1, db1, dW2, db2, dW3, db3, dW4, db4, dW5, db5, dW6, db6 = backward_prop(X_batch, Y_batch, cache, W1, W2, W3, W4, W5, W6, keep_prob, num_classes, lambd)\n",
    "\n",
    "            lr = get_learning_rate(initial_lr, i)\n",
    "            W1 -= lr * dW1\n",
    "            b1 -= lr * db1\n",
    "            W2 -= lr * dW2\n",
    "            b2 -= lr * db2\n",
    "            W3 -= lr * dW3\n",
    "            b3 -= lr * db3\n",
    "            W4 -= lr * dW4\n",
    "            b4 -= lr * db4\n",
    "            W5 -= lr * dW5\n",
    "            b5 -= lr * db5\n",
    "            W6 -= lr * dW6\n",
    "            b6 -= lr * db6\n",
    "\n",
    "        if i % 10 == 0:\n",
    "            train_predictions = get_predictions(forward_prop(W1, b1, W2, b2, W3, b3, W4, b4, W5, b5, W6, b6, X_train, is_training=False)[0])\n",
    "            val_predictions = get_predictions(forward_prop(W1, b1, W2, b2, W3, b3, W4, b4, W5, b5, W6, b6, X_val, is_training=False)[0])\n",
    "            train_accuracy = get_accuracy(train_predictions, Y_train)\n",
    "            val_accuracy = get_accuracy(val_predictions, Y_val)\n",
    "            print(f\"Iteration {i}: Train Accuracy = {train_accuracy * 100:.2f}%, Validation Accuracy = {val_accuracy * 100:.2f}%\")\n",
    "\n",
    "    return W1, b1, W2, b2, W3, b3, W4, b4, W5, b5, W6, b6"
   ]
  },
  {
   "cell_type": "code",
   "execution_count": 9,
   "id": "d3ad9ffe",
   "metadata": {
    "execution": {
     "iopub.execute_input": "2024-09-14T17:52:38.643760Z",
     "iopub.status.busy": "2024-09-14T17:52:38.643333Z",
     "iopub.status.idle": "2024-09-14T17:52:38.648094Z",
     "shell.execute_reply": "2024-09-14T17:52:38.647119Z"
    },
    "papermill": {
     "duration": 0.012603,
     "end_time": "2024-09-14T17:52:38.650480",
     "exception": false,
     "start_time": "2024-09-14T17:52:38.637877",
     "status": "completed"
    },
    "tags": []
   },
   "outputs": [],
   "source": [
    "def get_learning_rate(initial_lr, iteration, decay_rate=0.1):\n",
    "    return initial_lr / (1 + decay_rate * iteration)"
   ]
  },
  {
   "cell_type": "code",
   "execution_count": null,
   "id": "6154675e",
   "metadata": {
    "papermill": {
     "duration": 0.00572,
     "end_time": "2024-09-14T17:52:38.662014",
     "exception": false,
     "start_time": "2024-09-14T17:52:38.656294",
     "status": "completed"
    },
    "tags": []
   },
   "outputs": [],
   "source": []
  },
  {
   "cell_type": "code",
   "execution_count": 10,
   "id": "2154d757",
   "metadata": {
    "execution": {
     "iopub.execute_input": "2024-09-14T17:52:38.674572Z",
     "iopub.status.busy": "2024-09-14T17:52:38.673939Z",
     "iopub.status.idle": "2024-09-14T20:04:57.796926Z",
     "shell.execute_reply": "2024-09-14T20:04:57.795203Z"
    },
    "papermill": {
     "duration": 7939.132484,
     "end_time": "2024-09-14T20:04:57.800392",
     "exception": false,
     "start_time": "2024-09-14T17:52:38.667908",
     "status": "completed"
    },
    "tags": []
   },
   "outputs": [
    {
     "name": "stdout",
     "output_type": "stream",
     "text": [
      "Iteration 0: Train Accuracy = 43.36%, Validation Accuracy = 42.82%\n",
      "Iteration 10: Train Accuracy = 76.85%, Validation Accuracy = 77.78%\n",
      "Iteration 20: Train Accuracy = 79.49%, Validation Accuracy = 79.90%\n",
      "Iteration 30: Train Accuracy = 80.91%, Validation Accuracy = 81.12%\n",
      "Iteration 40: Train Accuracy = 81.53%, Validation Accuracy = 81.67%\n",
      "Iteration 50: Train Accuracy = 82.06%, Validation Accuracy = 82.18%\n",
      "Iteration 60: Train Accuracy = 82.37%, Validation Accuracy = 82.48%\n",
      "Iteration 70: Train Accuracy = 82.64%, Validation Accuracy = 82.60%\n",
      "Iteration 80: Train Accuracy = 82.88%, Validation Accuracy = 82.92%\n",
      "Iteration 90: Train Accuracy = 83.00%, Validation Accuracy = 83.27%\n",
      "Iteration 100: Train Accuracy = 83.16%, Validation Accuracy = 83.37%\n",
      "Iteration 110: Train Accuracy = 83.34%, Validation Accuracy = 83.58%\n",
      "Iteration 120: Train Accuracy = 83.50%, Validation Accuracy = 83.65%\n",
      "Iteration 130: Train Accuracy = 83.57%, Validation Accuracy = 83.75%\n",
      "Iteration 140: Train Accuracy = 83.72%, Validation Accuracy = 83.90%\n",
      "Iteration 150: Train Accuracy = 83.79%, Validation Accuracy = 84.05%\n",
      "Iteration 160: Train Accuracy = 83.89%, Validation Accuracy = 84.10%\n",
      "Iteration 170: Train Accuracy = 83.99%, Validation Accuracy = 84.05%\n",
      "Iteration 180: Train Accuracy = 84.07%, Validation Accuracy = 84.08%\n",
      "Iteration 190: Train Accuracy = 84.13%, Validation Accuracy = 84.18%\n",
      "Iteration 200: Train Accuracy = 84.22%, Validation Accuracy = 84.28%\n",
      "Iteration 210: Train Accuracy = 84.30%, Validation Accuracy = 84.25%\n",
      "Iteration 220: Train Accuracy = 84.36%, Validation Accuracy = 84.37%\n",
      "Iteration 230: Train Accuracy = 84.43%, Validation Accuracy = 84.40%\n",
      "Iteration 240: Train Accuracy = 84.48%, Validation Accuracy = 84.50%\n",
      "Iteration 250: Train Accuracy = 84.51%, Validation Accuracy = 84.50%\n",
      "Iteration 260: Train Accuracy = 84.55%, Validation Accuracy = 84.57%\n",
      "Iteration 270: Train Accuracy = 84.57%, Validation Accuracy = 84.55%\n",
      "Iteration 280: Train Accuracy = 84.65%, Validation Accuracy = 84.62%\n",
      "Iteration 290: Train Accuracy = 84.71%, Validation Accuracy = 84.63%\n",
      "Iteration 300: Train Accuracy = 84.75%, Validation Accuracy = 84.62%\n",
      "Iteration 310: Train Accuracy = 84.76%, Validation Accuracy = 84.70%\n",
      "Iteration 320: Train Accuracy = 84.81%, Validation Accuracy = 84.65%\n",
      "Iteration 330: Train Accuracy = 84.82%, Validation Accuracy = 84.72%\n",
      "Iteration 340: Train Accuracy = 84.87%, Validation Accuracy = 84.72%\n",
      "Iteration 350: Train Accuracy = 84.93%, Validation Accuracy = 84.67%\n",
      "Iteration 360: Train Accuracy = 84.95%, Validation Accuracy = 84.77%\n",
      "Iteration 370: Train Accuracy = 84.98%, Validation Accuracy = 84.85%\n",
      "Iteration 380: Train Accuracy = 85.01%, Validation Accuracy = 84.85%\n",
      "Iteration 390: Train Accuracy = 85.04%, Validation Accuracy = 84.97%\n",
      "Iteration 400: Train Accuracy = 85.07%, Validation Accuracy = 84.98%\n",
      "Iteration 410: Train Accuracy = 85.08%, Validation Accuracy = 85.03%\n",
      "Iteration 420: Train Accuracy = 85.12%, Validation Accuracy = 85.02%\n",
      "Iteration 430: Train Accuracy = 85.16%, Validation Accuracy = 85.05%\n",
      "Iteration 440: Train Accuracy = 85.19%, Validation Accuracy = 85.08%\n",
      "Iteration 450: Train Accuracy = 85.20%, Validation Accuracy = 85.02%\n",
      "Iteration 460: Train Accuracy = 85.21%, Validation Accuracy = 85.07%\n",
      "Iteration 470: Train Accuracy = 85.26%, Validation Accuracy = 85.10%\n",
      "Iteration 480: Train Accuracy = 85.26%, Validation Accuracy = 85.15%\n",
      "Iteration 490: Train Accuracy = 85.27%, Validation Accuracy = 85.15%\n",
      "Iteration 500: Train Accuracy = 85.31%, Validation Accuracy = 85.23%\n",
      "Iteration 510: Train Accuracy = 85.34%, Validation Accuracy = 85.20%\n",
      "Iteration 520: Train Accuracy = 85.35%, Validation Accuracy = 85.25%\n",
      "Iteration 530: Train Accuracy = 85.37%, Validation Accuracy = 85.23%\n",
      "Iteration 540: Train Accuracy = 85.39%, Validation Accuracy = 85.30%\n",
      "Iteration 550: Train Accuracy = 85.40%, Validation Accuracy = 85.27%\n",
      "Iteration 560: Train Accuracy = 85.42%, Validation Accuracy = 85.25%\n",
      "Iteration 570: Train Accuracy = 85.44%, Validation Accuracy = 85.30%\n",
      "Iteration 580: Train Accuracy = 85.44%, Validation Accuracy = 85.30%\n",
      "Iteration 590: Train Accuracy = 85.46%, Validation Accuracy = 85.35%\n",
      "Iteration 600: Train Accuracy = 85.46%, Validation Accuracy = 85.32%\n",
      "Iteration 610: Train Accuracy = 85.48%, Validation Accuracy = 85.33%\n",
      "Iteration 620: Train Accuracy = 85.49%, Validation Accuracy = 85.35%\n",
      "Iteration 630: Train Accuracy = 85.50%, Validation Accuracy = 85.33%\n",
      "Iteration 640: Train Accuracy = 85.51%, Validation Accuracy = 85.40%\n",
      "Iteration 650: Train Accuracy = 85.55%, Validation Accuracy = 85.40%\n",
      "Iteration 660: Train Accuracy = 85.57%, Validation Accuracy = 85.32%\n",
      "Iteration 670: Train Accuracy = 85.59%, Validation Accuracy = 85.42%\n",
      "Iteration 680: Train Accuracy = 85.60%, Validation Accuracy = 85.35%\n",
      "Iteration 690: Train Accuracy = 85.60%, Validation Accuracy = 85.38%\n",
      "Iteration 700: Train Accuracy = 85.61%, Validation Accuracy = 85.38%\n",
      "Iteration 710: Train Accuracy = 85.63%, Validation Accuracy = 85.40%\n",
      "Iteration 720: Train Accuracy = 85.65%, Validation Accuracy = 85.45%\n",
      "Iteration 730: Train Accuracy = 85.66%, Validation Accuracy = 85.43%\n",
      "Iteration 740: Train Accuracy = 85.68%, Validation Accuracy = 85.35%\n",
      "Iteration 750: Train Accuracy = 85.70%, Validation Accuracy = 85.43%\n",
      "Iteration 760: Train Accuracy = 85.72%, Validation Accuracy = 85.47%\n",
      "Iteration 770: Train Accuracy = 85.74%, Validation Accuracy = 85.50%\n",
      "Iteration 780: Train Accuracy = 85.75%, Validation Accuracy = 85.48%\n",
      "Iteration 790: Train Accuracy = 85.76%, Validation Accuracy = 85.50%\n",
      "Iteration 800: Train Accuracy = 85.79%, Validation Accuracy = 85.50%\n",
      "Iteration 810: Train Accuracy = 85.80%, Validation Accuracy = 85.50%\n",
      "Iteration 820: Train Accuracy = 85.82%, Validation Accuracy = 85.55%\n",
      "Iteration 830: Train Accuracy = 85.83%, Validation Accuracy = 85.53%\n",
      "Iteration 840: Train Accuracy = 85.82%, Validation Accuracy = 85.60%\n",
      "Iteration 850: Train Accuracy = 85.84%, Validation Accuracy = 85.60%\n",
      "Iteration 860: Train Accuracy = 85.85%, Validation Accuracy = 85.57%\n",
      "Iteration 870: Train Accuracy = 85.87%, Validation Accuracy = 85.58%\n",
      "Iteration 880: Train Accuracy = 85.88%, Validation Accuracy = 85.58%\n",
      "Iteration 890: Train Accuracy = 85.87%, Validation Accuracy = 85.60%\n",
      "Iteration 900: Train Accuracy = 85.88%, Validation Accuracy = 85.60%\n",
      "Iteration 910: Train Accuracy = 85.88%, Validation Accuracy = 85.58%\n",
      "Iteration 920: Train Accuracy = 85.89%, Validation Accuracy = 85.58%\n",
      "Iteration 930: Train Accuracy = 85.91%, Validation Accuracy = 85.58%\n",
      "Iteration 940: Train Accuracy = 85.92%, Validation Accuracy = 85.55%\n",
      "Iteration 950: Train Accuracy = 85.93%, Validation Accuracy = 85.57%\n",
      "Iteration 960: Train Accuracy = 85.94%, Validation Accuracy = 85.52%\n",
      "Iteration 970: Train Accuracy = 85.96%, Validation Accuracy = 85.53%\n",
      "Iteration 980: Train Accuracy = 85.96%, Validation Accuracy = 85.50%\n",
      "Iteration 990: Train Accuracy = 85.97%, Validation Accuracy = 85.52%\n",
      "Iteration 1000: Train Accuracy = 85.98%, Validation Accuracy = 85.53%\n",
      "Iteration 1010: Train Accuracy = 85.99%, Validation Accuracy = 85.47%\n",
      "Iteration 1020: Train Accuracy = 86.00%, Validation Accuracy = 85.47%\n",
      "Iteration 1030: Train Accuracy = 86.01%, Validation Accuracy = 85.47%\n",
      "Iteration 1040: Train Accuracy = 86.00%, Validation Accuracy = 85.53%\n",
      "Iteration 1050: Train Accuracy = 86.04%, Validation Accuracy = 85.52%\n",
      "Iteration 1060: Train Accuracy = 86.03%, Validation Accuracy = 85.53%\n",
      "Iteration 1070: Train Accuracy = 86.04%, Validation Accuracy = 85.53%\n",
      "Iteration 1080: Train Accuracy = 86.05%, Validation Accuracy = 85.55%\n",
      "Iteration 1090: Train Accuracy = 86.06%, Validation Accuracy = 85.57%\n",
      "Iteration 1100: Train Accuracy = 86.06%, Validation Accuracy = 85.57%\n",
      "Iteration 1110: Train Accuracy = 86.09%, Validation Accuracy = 85.62%\n",
      "Iteration 1120: Train Accuracy = 86.09%, Validation Accuracy = 85.58%\n",
      "Iteration 1130: Train Accuracy = 86.09%, Validation Accuracy = 85.62%\n",
      "Iteration 1140: Train Accuracy = 86.10%, Validation Accuracy = 85.63%\n",
      "Iteration 1150: Train Accuracy = 86.12%, Validation Accuracy = 85.65%\n",
      "Iteration 1160: Train Accuracy = 86.11%, Validation Accuracy = 85.65%\n",
      "Iteration 1170: Train Accuracy = 86.13%, Validation Accuracy = 85.63%\n",
      "Iteration 1180: Train Accuracy = 86.14%, Validation Accuracy = 85.63%\n",
      "Iteration 1190: Train Accuracy = 86.15%, Validation Accuracy = 85.67%\n"
     ]
    }
   ],
   "source": [
    "# Training the neural network\n",
    "W1, b1, W2, b2, W3, b3, W4, b4, W5, b5, W6, b6 = gradient_descent(\n",
    "    X_train, Y_train, X_val, Y_val, num_classes, \n",
    "    initial_lr=0.005, iterations=1200, batch_size=256, \n",
    "    keep_prob=0.9, lambd=0.00005\n",
    ")"
   ]
  },
  {
   "cell_type": "code",
   "execution_count": 11,
   "id": "71fd47ac",
   "metadata": {
    "execution": {
     "iopub.execute_input": "2024-09-14T20:04:57.872436Z",
     "iopub.status.busy": "2024-09-14T20:04:57.871782Z",
     "iopub.status.idle": "2024-09-14T20:05:00.562423Z",
     "shell.execute_reply": "2024-09-14T20:05:00.561135Z"
    },
    "papermill": {
     "duration": 2.739049,
     "end_time": "2024-09-14T20:05:00.565402",
     "exception": false,
     "start_time": "2024-09-14T20:04:57.826353",
     "status": "completed"
    },
    "tags": []
   },
   "outputs": [
    {
     "name": "stdout",
     "output_type": "stream",
     "text": [
      "Test Accuracy = 86.02%\n",
      "Test Precision = 0.86\n",
      "Test Recall = 0.86\n",
      "Test F1 Score = 0.86\n",
      "Confusion Matrix:\n",
      "[[847   4  15  32   0   2  89   0  11   0]\n",
      " [  3 971   6  13   1   0   5   0   0   1]\n",
      " [ 12   0 786  12 119   0  65   0   6   0]\n",
      " [ 36  17  16 885  26   0  15   0   4   1]\n",
      " [  2   1  76  27 810   0  82   0   2   0]\n",
      " [  1   0   0   1   0 923   0  42   4  29]\n",
      " [203   3 112  23  75   0 572   0  12   0]\n",
      " [  0   0   0   0   0  37   0 889   0  74]\n",
      " [  2   0   9   2   4   4  12   4 962   1]\n",
      " [  0   0   0   0   0   9   0  34   0 957]]\n"
     ]
    }
   ],
   "source": [
    "import numpy as np\n",
    "import pandas as pd\n",
    "from sklearn.metrics import accuracy_score, precision_score, recall_score, f1_score, confusion_matrix\n",
    "\n",
    "# Load the test data\n",
    "test_data = pd.read_csv('/kaggle/input/fashionmnist/fashion-mnist_test.csv')\n",
    "test_data_np = test_data.to_numpy()\n",
    "Y_test = test_data_np[:, 0]\n",
    "X_test = test_data_np[:, 1:] / 255.0\n",
    "X_test = X_test.T\n",
    "\n",
    "# Get predictions on the test set\n",
    "test_predictions = get_predictions(forward_prop(W1, b1, W2, b2, W3, b3, W4, b4, W5, b5, W6, b6, X_test, is_training=False)[0])\n",
    "\n",
    "# Calculate metrics\n",
    "test_accuracy = accuracy_score(Y_test, test_predictions)\n",
    "test_precision = precision_score(Y_test, test_predictions, average='weighted')\n",
    "test_recall = recall_score(Y_test, test_predictions, average='weighted')\n",
    "test_f1 = f1_score(Y_test, test_predictions, average='weighted')\n",
    "test_conf_matrix = confusion_matrix(Y_test, test_predictions)\n",
    "\n",
    "# Print metrics\n",
    "print(f\"Test Accuracy = {test_accuracy * 100:.2f}%\")\n",
    "print(f\"Test Precision = {test_precision:.2f}\")\n",
    "print(f\"Test Recall = {test_recall:.2f}\")\n",
    "print(f\"Test F1 Score = {test_f1:.2f}\")\n",
    "print(f\"Confusion Matrix:\\n{test_conf_matrix}\")\n"
   ]
  },
  {
   "cell_type": "code",
   "execution_count": 12,
   "id": "43281679",
   "metadata": {
    "execution": {
     "iopub.execute_input": "2024-09-14T20:05:00.605795Z",
     "iopub.status.busy": "2024-09-14T20:05:00.604890Z",
     "iopub.status.idle": "2024-09-14T20:05:01.778316Z",
     "shell.execute_reply": "2024-09-14T20:05:01.777135Z"
    },
    "papermill": {
     "duration": 1.196487,
     "end_time": "2024-09-14T20:05:01.780747",
     "exception": false,
     "start_time": "2024-09-14T20:05:00.584260",
     "status": "completed"
    },
    "tags": []
   },
   "outputs": [
    {
     "name": "stdout",
     "output_type": "stream",
     "text": [
      "\n",
      "Model Performance Metrics:\n",
      "------------------------------\n",
      "Test Accuracy  = 86.02%\n",
      "Test Precision = 0.8590\n",
      "Test Recall    = 0.8602\n",
      "Test F1 Score  = 0.8588\n",
      "\n",
      "Neural Network Architecture and Parameter Breakdown:\n",
      "------------------------------------------------------------\n",
      "Layer      Shape           Trainable Parameters      Activation     \n",
      "------------------------------------------------------------\n",
      "Input      (784,)          0                         -              \n",
      "W1         (512, 784)      401408                    LeakyReLU      \n",
      "b1         (512, 1)        512                                      \n",
      "W2         (256, 512)      131072                    LeakyReLU      \n",
      "b2         (256, 1)        256                                      \n",
      "W3         (128, 256)      32768                     LeakyReLU      \n",
      "b3         (128, 1)        128                                      \n",
      "W4         (64, 128)       8192                      LeakyReLU      \n",
      "b4         (64, 1)         64                                       \n",
      "W5         (10, 64)        640                       LeakyReLU      \n",
      "b5         (10, 1)         10                                       \n",
      "W6         (10, 10)        100                       Softmax        \n",
      "b6         (10, 1)         10                                       \n",
      "------------------------------------------------------------\n",
      "Total                      575160                   \n",
      "\n",
      "Total trainable parameters: 575160\n",
      "Total non-trainable parameters: 0\n"
     ]
    },
    {
     "data": {
      "image/png": "[encoded data removed]",
      "text/plain": [
       "<Figure size 1200x1000 with 2 Axes>"
      ]
     },
     "metadata": {},
     "output_type": "display_data"
    }
   ],
   "source": [
    "\n",
    "from sklearn.metrics import accuracy_score, precision_score, recall_score, f1_score, confusion_matrix\n",
    "import matplotlib.pyplot as plt\n",
    "import seaborn as sns\n",
    "\n",
    "\n",
    "# Calculate metrics\n",
    "test_accuracy = accuracy_score(Y_test, test_predictions)\n",
    "test_precision = precision_score(Y_test, test_predictions, average='weighted')\n",
    "test_recall = recall_score(Y_test, test_predictions, average='weighted')\n",
    "test_f1 = f1_score(Y_test, test_predictions, average='weighted')\n",
    "test_conf_matrix = confusion_matrix(Y_test, test_predictions)\n",
    "\n",
    "# Print metrics\n",
    "print(\"\\nModel Performance Metrics:\")\n",
    "print(\"-\" * 30)\n",
    "print(f\"Test Accuracy  = {test_accuracy * 100:.2f}%\")\n",
    "print(f\"Test Precision = {test_precision:.4f}\")\n",
    "print(f\"Test Recall    = {test_recall:.4f}\")\n",
    "print(f\"Test F1 Score  = {test_f1:.4f}\")\n",
    "\n",
    "# Calculate number of parameters\n",
    "def count_parameters(W, b):\n",
    "    return W.size + b.size\n",
    "\n",
    "total_params = count_parameters(W1, b1) + count_parameters(W2, b2) + count_parameters(W3, b3) + \\\n",
    "               count_parameters(W4, b4) + count_parameters(W5, b5) + count_parameters(W6, b6)\n",
    "\n",
    "# Create a table of parameters\n",
    "print(\"\\nNeural Network Architecture and Parameter Breakdown:\")\n",
    "print(\"-\" * 60)\n",
    "print(f\"{'Layer':<10} {'Shape':<15} {'Trainable Parameters':<25} {'Activation':<15}\")\n",
    "print(\"-\" * 60)\n",
    "print(f\"{'Input':<10} {'(784,)':<15} {'0':<25} {'-':<15}\")\n",
    "print(f\"{'W1':<10} {str(W1.shape):<15} {W1.size:<25} {'LeakyReLU':<15}\")\n",
    "print(f\"{'b1':<10} {str(b1.shape):<15} {b1.size:<25} {'':<15}\")\n",
    "print(f\"{'W2':<10} {str(W2.shape):<15} {W2.size:<25} {'LeakyReLU':<15}\")\n",
    "print(f\"{'b2':<10} {str(b2.shape):<15} {b2.size:<25} {'':<15}\")\n",
    "print(f\"{'W3':<10} {str(W3.shape):<15} {W3.size:<25} {'LeakyReLU':<15}\")\n",
    "print(f\"{'b3':<10} {str(b3.shape):<15} {b3.size:<25} {'':<15}\")\n",
    "print(f\"{'W4':<10} {str(W4.shape):<15} {W4.size:<25} {'LeakyReLU':<15}\")\n",
    "print(f\"{'b4':<10} {str(b4.shape):<15} {b4.size:<25} {'':<15}\")\n",
    "print(f\"{'W5':<10} {str(W5.shape):<15} {W5.size:<25} {'LeakyReLU':<15}\")\n",
    "print(f\"{'b5':<10} {str(b5.shape):<15} {b5.size:<25} {'':<15}\")\n",
    "print(f\"{'W6':<10} {str(W6.shape):<15} {W6.size:<25} {'Softmax':<15}\")\n",
    "print(f\"{'b6':<10} {str(b6.shape):<15} {b6.size:<25} {'':<15}\")\n",
    "print(\"-\" * 60)\n",
    "print(f\"{'Total':<10} {'':<15} {total_params:<25}\")\n",
    "print(f\"\\nTotal trainable parameters: {total_params}\")\n",
    "print(f\"Total non-trainable parameters: 0\")\n",
    "\n",
    "\n",
    "# Visualizations\n",
    "plt.figure(figsize=(12, 10))\n",
    "sns.heatmap(test_conf_matrix, annot=True, fmt='d', cmap='Blues')\n",
    "plt.title('Confusion Matrix')\n",
    "plt.xlabel('Predicted Label')\n",
    "plt.ylabel('True Label')\n",
    "plt.show()"
   ]
  }
 ],
 "metadata": {
  "kaggle": {
   "accelerator": "none",
   "dataSources": [
    {
     "datasetId": 2243,
     "sourceId": 9243,
     "sourceType": "datasetVersion"
    }
   ],
   "dockerImageVersionId": 30761,
   "isGpuEnabled": false,
   "isInternetEnabled": true,
   "language": "python",
   "sourceType": "notebook"
  },
  "kernelspec": {
   "display_name": "Python 3",
   "language": "python",
   "name": "python3"
  },
  "language_info": {
   "codemirror_mode": {
    "name": "ipython",
    "version": 3
   },
   "file_extension": ".py",
   "mimetype": "text/x-python",
   "name": "python",
   "nbconvert_exporter": "python",
   "pygments_lexer": "ipython3",
   "version": "3.10.14"
  },
  "papermill": {
   "default_parameters": {},
   "duration": 7953.979076,
   "end_time": "2024-09-14T20:05:02.414403",
   "environment_variables": {},
   "exception": null,
   "input_path": "__notebook__.ipynb",
   "output_path": "__notebook__.ipynb",
   "parameters": {},
   "start_time": "2024-09-14T17:52:28.435327",
   "version": "2.6.0"
  }
 },
 "nbformat": 4,
 "nbformat_minor": 5
}
